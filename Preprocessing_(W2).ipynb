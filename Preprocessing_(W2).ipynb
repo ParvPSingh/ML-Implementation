{
  "nbformat": 4,
  "nbformat_minor": 0,
  "metadata": {
    "colab": {
      "provenance": [],
      "authorship_tag": "ABX9TyN5sev6H1F5VjkKvuup/YaL"
    },
    "kernelspec": {
      "name": "python3",
      "display_name": "Python 3"
    },
    "language_info": {
      "name": "python"
    }
  },
  "cells": [
    {
      "cell_type": "code",
      "source": [
        "from google.colab import drive\n",
        "drive.mount('/content/drive/')"
      ],
      "metadata": {
        "colab": {
          "base_uri": "https://localhost:8080/"
        },
        "id": "UoRibR7nnVnH",
        "outputId": "98208fad-de4a-42d5-b60f-f28a745d777d"
      },
      "execution_count": null,
      "outputs": [
        {
          "output_type": "stream",
          "name": "stdout",
          "text": [
            "Mounted at /content/drive/\n"
          ]
        }
      ]
    },
    {
      "cell_type": "code",
      "source": [
        "import numpy as np\n",
        "import matplotlib.pyplot as plt\n",
        "import pandas as pd\n",
        "from sklearn.impute import SimpleImputer,KNNImputer\n",
        "from sklearn.preprocessing import StandardScaler, OrdinalEncoder\n",
        "from sklearn.pipeline import Pipeline, FeatureUnion\n",
        "from sklearn.compose import ColumnTransformer"
      ],
      "metadata": {
        "id": "4TkXax5TWyMD"
      },
      "execution_count": null,
      "outputs": []
    },
    {
      "cell_type": "code",
      "source": [
        "from sklearn.feature_selection import VarianceThreshold,RFE,SequentialFeatureSelector"
      ],
      "metadata": {
        "id": "6qi81dI_Nd9u"
      },
      "execution_count": null,
      "outputs": []
    },
    {
      "cell_type": "code",
      "source": [
        "from sklearn.linear_model import LogisticRegression"
      ],
      "metadata": {
        "id": "U2qxY0BzN48p"
      },
      "execution_count": null,
      "outputs": []
    },
    {
      "cell_type": "code",
      "execution_count": null,
      "metadata": {
        "id": "Gy9vcye9Vul-"
      },
      "outputs": [],
      "source": [
        "pdata=pd.read_csv(\"/content/drive/MyDrive/data/DataPreprocessingGraded_dataset.csv\")"
      ]
    },
    {
      "cell_type": "markdown",
      "source": [
        "## PA"
      ],
      "metadata": {
        "id": "vhcgb7lcHFTv"
      }
    },
    {
      "cell_type": "code",
      "source": [
        "pdata.head()"
      ],
      "metadata": {
        "colab": {
          "base_uri": "https://localhost:8080/",
          "height": 206
        },
        "id": "dz-qnoyFWtt1",
        "outputId": "32cc575a-270a-4994-8682-4cc20ea23121"
      },
      "execution_count": null,
      "outputs": [
        {
          "output_type": "execute_result",
          "data": {
            "text/plain": [
              "    V1    V2       V3    V4        V5 Target\n",
              "0  2.0  50.0  12500.0  98.0  NEGATIVE    YES\n",
              "1  0.0  13.0   3250.0  28.0  NEGATIVE    YES\n",
              "2    ?     ?   4000.0  35.0  NEGATIVE    YES\n",
              "3    ?  20.0   5000.0  45.0  NEGATIVE    YES\n",
              "4  1.0  24.0   6000.0  77.0  NEGATIVE     NO"
            ],
            "text/html": [
              "\n",
              "  <div id=\"df-d1d25946-db85-4039-9358-cbc9972712ce\">\n",
              "    <div class=\"colab-df-container\">\n",
              "      <div>\n",
              "<style scoped>\n",
              "    .dataframe tbody tr th:only-of-type {\n",
              "        vertical-align: middle;\n",
              "    }\n",
              "\n",
              "    .dataframe tbody tr th {\n",
              "        vertical-align: top;\n",
              "    }\n",
              "\n",
              "    .dataframe thead th {\n",
              "        text-align: right;\n",
              "    }\n",
              "</style>\n",
              "<table border=\"1\" class=\"dataframe\">\n",
              "  <thead>\n",
              "    <tr style=\"text-align: right;\">\n",
              "      <th></th>\n",
              "      <th>V1</th>\n",
              "      <th>V2</th>\n",
              "      <th>V3</th>\n",
              "      <th>V4</th>\n",
              "      <th>V5</th>\n",
              "      <th>Target</th>\n",
              "    </tr>\n",
              "  </thead>\n",
              "  <tbody>\n",
              "    <tr>\n",
              "      <th>0</th>\n",
              "      <td>2.0</td>\n",
              "      <td>50.0</td>\n",
              "      <td>12500.0</td>\n",
              "      <td>98.0</td>\n",
              "      <td>NEGATIVE</td>\n",
              "      <td>YES</td>\n",
              "    </tr>\n",
              "    <tr>\n",
              "      <th>1</th>\n",
              "      <td>0.0</td>\n",
              "      <td>13.0</td>\n",
              "      <td>3250.0</td>\n",
              "      <td>28.0</td>\n",
              "      <td>NEGATIVE</td>\n",
              "      <td>YES</td>\n",
              "    </tr>\n",
              "    <tr>\n",
              "      <th>2</th>\n",
              "      <td>?</td>\n",
              "      <td>?</td>\n",
              "      <td>4000.0</td>\n",
              "      <td>35.0</td>\n",
              "      <td>NEGATIVE</td>\n",
              "      <td>YES</td>\n",
              "    </tr>\n",
              "    <tr>\n",
              "      <th>3</th>\n",
              "      <td>?</td>\n",
              "      <td>20.0</td>\n",
              "      <td>5000.0</td>\n",
              "      <td>45.0</td>\n",
              "      <td>NEGATIVE</td>\n",
              "      <td>YES</td>\n",
              "    </tr>\n",
              "    <tr>\n",
              "      <th>4</th>\n",
              "      <td>1.0</td>\n",
              "      <td>24.0</td>\n",
              "      <td>6000.0</td>\n",
              "      <td>77.0</td>\n",
              "      <td>NEGATIVE</td>\n",
              "      <td>NO</td>\n",
              "    </tr>\n",
              "  </tbody>\n",
              "</table>\n",
              "</div>\n",
              "      <button class=\"colab-df-convert\" onclick=\"convertToInteractive('df-d1d25946-db85-4039-9358-cbc9972712ce')\"\n",
              "              title=\"Convert this dataframe to an interactive table.\"\n",
              "              style=\"display:none;\">\n",
              "        \n",
              "  <svg xmlns=\"http://www.w3.org/2000/svg\" height=\"24px\"viewBox=\"0 0 24 24\"\n",
              "       width=\"24px\">\n",
              "    <path d=\"M0 0h24v24H0V0z\" fill=\"none\"/>\n",
              "    <path d=\"M18.56 5.44l.94 2.06.94-2.06 2.06-.94-2.06-.94-.94-2.06-.94 2.06-2.06.94zm-11 1L8.5 8.5l.94-2.06 2.06-.94-2.06-.94L8.5 2.5l-.94 2.06-2.06.94zm10 10l.94 2.06.94-2.06 2.06-.94-2.06-.94-.94-2.06-.94 2.06-2.06.94z\"/><path d=\"M17.41 7.96l-1.37-1.37c-.4-.4-.92-.59-1.43-.59-.52 0-1.04.2-1.43.59L10.3 9.45l-7.72 7.72c-.78.78-.78 2.05 0 2.83L4 21.41c.39.39.9.59 1.41.59.51 0 1.02-.2 1.41-.59l7.78-7.78 2.81-2.81c.8-.78.8-2.07 0-2.86zM5.41 20L4 18.59l7.72-7.72 1.47 1.35L5.41 20z\"/>\n",
              "  </svg>\n",
              "      </button>\n",
              "      \n",
              "  <style>\n",
              "    .colab-df-container {\n",
              "      display:flex;\n",
              "      flex-wrap:wrap;\n",
              "      gap: 12px;\n",
              "    }\n",
              "\n",
              "    .colab-df-convert {\n",
              "      background-color: #E8F0FE;\n",
              "      border: none;\n",
              "      border-radius: 50%;\n",
              "      cursor: pointer;\n",
              "      display: none;\n",
              "      fill: #1967D2;\n",
              "      height: 32px;\n",
              "      padding: 0 0 0 0;\n",
              "      width: 32px;\n",
              "    }\n",
              "\n",
              "    .colab-df-convert:hover {\n",
              "      background-color: #E2EBFA;\n",
              "      box-shadow: 0px 1px 2px rgba(60, 64, 67, 0.3), 0px 1px 3px 1px rgba(60, 64, 67, 0.15);\n",
              "      fill: #174EA6;\n",
              "    }\n",
              "\n",
              "    [theme=dark] .colab-df-convert {\n",
              "      background-color: #3B4455;\n",
              "      fill: #D2E3FC;\n",
              "    }\n",
              "\n",
              "    [theme=dark] .colab-df-convert:hover {\n",
              "      background-color: #434B5C;\n",
              "      box-shadow: 0px 1px 3px 1px rgba(0, 0, 0, 0.15);\n",
              "      filter: drop-shadow(0px 1px 2px rgba(0, 0, 0, 0.3));\n",
              "      fill: #FFFFFF;\n",
              "    }\n",
              "  </style>\n",
              "\n",
              "      <script>\n",
              "        const buttonEl =\n",
              "          document.querySelector('#df-d1d25946-db85-4039-9358-cbc9972712ce button.colab-df-convert');\n",
              "        buttonEl.style.display =\n",
              "          google.colab.kernel.accessAllowed ? 'block' : 'none';\n",
              "\n",
              "        async function convertToInteractive(key) {\n",
              "          const element = document.querySelector('#df-d1d25946-db85-4039-9358-cbc9972712ce');\n",
              "          const dataTable =\n",
              "            await google.colab.kernel.invokeFunction('convertToInteractive',\n",
              "                                                     [key], {});\n",
              "          if (!dataTable) return;\n",
              "\n",
              "          const docLinkHtml = 'Like what you see? Visit the ' +\n",
              "            '<a target=\"_blank\" href=https://colab.research.google.com/notebooks/data_table.ipynb>data table notebook</a>'\n",
              "            + ' to learn more about interactive tables.';\n",
              "          element.innerHTML = '';\n",
              "          dataTable['output_type'] = 'display_data';\n",
              "          await google.colab.output.renderOutput(dataTable, element);\n",
              "          const docLink = document.createElement('div');\n",
              "          docLink.innerHTML = docLinkHtml;\n",
              "          element.appendChild(docLink);\n",
              "        }\n",
              "      </script>\n",
              "    </div>\n",
              "  </div>\n",
              "  "
            ]
          },
          "metadata": {},
          "execution_count": 15
        }
      ]
    },
    {
      "cell_type": "code",
      "source": [
        "pdata.shape"
      ],
      "metadata": {
        "colab": {
          "base_uri": "https://localhost:8080/"
        },
        "id": "NsBKAqIkpFnH",
        "outputId": "fe363838-d3b5-415c-ee6f-4cea0b60bee5"
      },
      "execution_count": null,
      "outputs": [
        {
          "output_type": "execute_result",
          "data": {
            "text/plain": [
              "(748, 6)"
            ]
          },
          "metadata": {},
          "execution_count": 16
        }
      ]
    },
    {
      "cell_type": "code",
      "source": [
        "type(pdata)"
      ],
      "metadata": {
        "colab": {
          "base_uri": "https://localhost:8080/"
        },
        "id": "G7xJS6YtpM-w",
        "outputId": "54d3f638-e5ea-4289-da38-95897f826ee6"
      },
      "execution_count": null,
      "outputs": [
        {
          "output_type": "execute_result",
          "data": {
            "text/plain": [
              "pandas.core.frame.DataFrame"
            ]
          },
          "metadata": {},
          "execution_count": 19
        }
      ]
    },
    {
      "cell_type": "code",
      "source": [
        "plt.scatter(pdata['V1'],pdata['V2'])\n",
        "plt.scatter(pdata['V1'],pdata['V3'])\n",
        "plt.scatter(pdata['V2'],pdata['V3'])"
      ],
      "metadata": {
        "colab": {
          "base_uri": "https://localhost:8080/",
          "height": 282
        },
        "id": "zJE8xhZ7pmMP",
        "outputId": "f6776d91-9eb2-4f7b-e5c2-b4344dd46a2b"
      },
      "execution_count": null,
      "outputs": [
        {
          "output_type": "execute_result",
          "data": {
            "text/plain": [
              "<matplotlib.collections.PathCollection at 0x7f4642d76850>"
            ]
          },
          "metadata": {},
          "execution_count": 22
        },
        {
          "output_type": "display_data",
          "data": {
            "text/plain": [
              "<Figure size 432x288 with 1 Axes>"
            ],
            "image/png": "[encoded data removed]"
          },
          "metadata": {
            "needs_background": "light"
          }
        }
      ]
    },
    {
      "cell_type": "code",
      "source": [
        "pdata[pdata.Target=='NO'].count()"
      ],
      "metadata": {
        "colab": {
          "base_uri": "https://localhost:8080/"
        },
        "id": "KR-j8FdSs1b0",
        "outputId": "dc1a4002-5ba0-4015-e7f1-65ef5e1eabd4"
      },
      "execution_count": null,
      "outputs": [
        {
          "output_type": "execute_result",
          "data": {
            "text/plain": [
              "V1        570\n",
              "V2        570\n",
              "V3        570\n",
              "V4        570\n",
              "V5        570\n",
              "Target    570\n",
              "dtype: int64"
            ]
          },
          "metadata": {},
          "execution_count": 26
        }
      ]
    },
    {
      "cell_type": "code",
      "source": [
        "print(pdata.V1.unique())\n",
        "print(pdata.V2.unique())\n",
        "print(pdata.V3.unique())\n",
        "print(pdata.V4.unique())\n",
        "print(pdata.V5.unique())"
      ],
      "metadata": {
        "colab": {
          "base_uri": "https://localhost:8080/"
        },
        "id": "3XDPjRbPt6r0",
        "outputId": "1dac358a-91f9-4930-d577-41f3c9282057"
      },
      "execution_count": null,
      "outputs": [
        {
          "output_type": "stream",
          "name": "stdout",
          "text": [
            "['2.0' '0.0' '?' '1.0' '4.0' '5.0' '9.0' '3.0' '12.0' '6.0' '11.0' '10.0'\n",
            " '13.0' '8.0' '14.0' '7.0' '16.0' '15.0' '23.0' '21.0' '18.0' '22.0'\n",
            " '26.0' '35.0' '38.0' '40.0' '74.0' '20.0' '17.0' '25.0' '39.0' '72.0']\n",
            "['50.0' '13.0' '?' '20.0' '24.0' '12.0' '9.0' '46.0' '3.0' '10.0' '6.0'\n",
            " '5.0' '14.0' '11.0' '8.0' '16.0' '7.0' '2.0' '19.0' '4.0' '17.0' '1.0'\n",
            " '15.0' '22.0' '18.0' '38.0' '43.0' '34.0' '44.0' '26.0' '41.0' '21.0'\n",
            " '33.0']\n",
            "[12500.  3250.  4000.  5000.  6000.  1000.  1750.  3000.  2250. 11500.\n",
            "  5750.   750.  2500.  1500.  1250.  3500.  3750.  2750.  2000.   500.\n",
            "  4750.  4250.   250.  5500.  4500.  9500. 10750.  8500. 11000.  6500.\n",
            " 10250.  5250.  8250.]\n",
            "[98. 28. 35. 45. 77.  4. 14. 22. 58. 47. 15. 11. 48. 49. 16. 40. 34. 21.\n",
            " 26. 64. 57. 53. 69. 36.  2. 46. 52. 81. 29.  9. 74. 25. 51. 71. 23. 86.\n",
            " 38. 76. 70. 59. 82. 61. 79. 41. 33. 10. 95. 88. 19. 37. 39. 78. 42. 27.\n",
            " 24. 63. 43. 75. 73. 50. 60. 17. 72. 62. 30. 31. 65. 89. 87. 93. 83. 32.\n",
            " 12. 18. 55.  3. 13. 54.]\n",
            "['NEGATIVE']\n"
          ]
        }
      ]
    },
    {
      "cell_type": "code",
      "source": [
        "pdata.loc[pdata.V1=='?','V1'].count()+pdata.loc[pdata.V2=='?','V2'].count()"
      ],
      "metadata": {
        "colab": {
          "base_uri": "https://localhost:8080/"
        },
        "id": "k4nFOQ5wvVhx",
        "outputId": "4228f9b0-728b-4416-f7ea-3ab0ebe25597"
      },
      "execution_count": null,
      "outputs": [
        {
          "output_type": "execute_result",
          "data": {
            "text/plain": [
              "10"
            ]
          },
          "metadata": {},
          "execution_count": 32
        }
      ]
    },
    {
      "cell_type": "code",
      "source": [
        "pdata.replace('?',np.nan,inplace=True)"
      ],
      "metadata": {
        "id": "AJyyOVegw-Al"
      },
      "execution_count": null,
      "outputs": []
    },
    {
      "cell_type": "code",
      "source": [
        "X_num=pdata.iloc[:,:4]\n",
        "X_num"
      ],
      "metadata": {
        "colab": {
          "base_uri": "https://localhost:8080/",
          "height": 424
        },
        "id": "U0X4xBjKyuHe",
        "outputId": "cd7e19cf-18ca-4eee-bc86-01c6118645d5"
      },
      "execution_count": null,
      "outputs": [
        {
          "output_type": "execute_result",
          "data": {
            "text/plain": [
              "       V1    V2       V3    V4\n",
              "0     2.0  50.0  12500.0  98.0\n",
              "1     0.0  13.0   3250.0  28.0\n",
              "2     NaN   NaN   4000.0  35.0\n",
              "3     NaN  20.0   5000.0  45.0\n",
              "4     1.0  24.0   6000.0  77.0\n",
              "..    ...   ...      ...   ...\n",
              "743  23.0   2.0    500.0  38.0\n",
              "744  21.0   2.0    500.0  52.0\n",
              "745  23.0   3.0    750.0  62.0\n",
              "746  39.0   1.0    250.0  39.0\n",
              "747  72.0   1.0    250.0  72.0\n",
              "\n",
              "[748 rows x 4 columns]"
            ],
            "text/html": [
              "\n",
              "  <div id=\"df-3fcd8d98-9e0a-4f2e-a521-daf3800e4af4\">\n",
              "    <div class=\"colab-df-container\">\n",
              "      <div>\n",
              "<style scoped>\n",
              "    .dataframe tbody tr th:only-of-type {\n",
              "        vertical-align: middle;\n",
              "    }\n",
              "\n",
              "    .dataframe tbody tr th {\n",
              "        vertical-align: top;\n",
              "    }\n",
              "\n",
              "    .dataframe thead th {\n",
              "        text-align: right;\n",
              "    }\n",
              "</style>\n",
              "<table border=\"1\" class=\"dataframe\">\n",
              "  <thead>\n",
              "    <tr style=\"text-align: right;\">\n",
              "      <th></th>\n",
              "      <th>V1</th>\n",
              "      <th>V2</th>\n",
              "      <th>V3</th>\n",
              "      <th>V4</th>\n",
              "    </tr>\n",
              "  </thead>\n",
              "  <tbody>\n",
              "    <tr>\n",
              "      <th>0</th>\n",
              "      <td>2.0</td>\n",
              "      <td>50.0</td>\n",
              "      <td>12500.0</td>\n",
              "      <td>98.0</td>\n",
              "    </tr>\n",
              "    <tr>\n",
              "      <th>1</th>\n",
              "      <td>0.0</td>\n",
              "      <td>13.0</td>\n",
              "      <td>3250.0</td>\n",
              "      <td>28.0</td>\n",
              "    </tr>\n",
              "    <tr>\n",
              "      <th>2</th>\n",
              "      <td>NaN</td>\n",
              "      <td>NaN</td>\n",
              "      <td>4000.0</td>\n",
              "      <td>35.0</td>\n",
              "    </tr>\n",
              "    <tr>\n",
              "      <th>3</th>\n",
              "      <td>NaN</td>\n",
              "      <td>20.0</td>\n",
              "      <td>5000.0</td>\n",
              "      <td>45.0</td>\n",
              "    </tr>\n",
              "    <tr>\n",
              "      <th>4</th>\n",
              "      <td>1.0</td>\n",
              "      <td>24.0</td>\n",
              "      <td>6000.0</td>\n",
              "      <td>77.0</td>\n",
              "    </tr>\n",
              "    <tr>\n",
              "      <th>...</th>\n",
              "      <td>...</td>\n",
              "      <td>...</td>\n",
              "      <td>...</td>\n",
              "      <td>...</td>\n",
              "    </tr>\n",
              "    <tr>\n",
              "      <th>743</th>\n",
              "      <td>23.0</td>\n",
              "      <td>2.0</td>\n",
              "      <td>500.0</td>\n",
              "      <td>38.0</td>\n",
              "    </tr>\n",
              "    <tr>\n",
              "      <th>744</th>\n",
              "      <td>21.0</td>\n",
              "      <td>2.0</td>\n",
              "      <td>500.0</td>\n",
              "      <td>52.0</td>\n",
              "    </tr>\n",
              "    <tr>\n",
              "      <th>745</th>\n",
              "      <td>23.0</td>\n",
              "      <td>3.0</td>\n",
              "      <td>750.0</td>\n",
              "      <td>62.0</td>\n",
              "    </tr>\n",
              "    <tr>\n",
              "      <th>746</th>\n",
              "      <td>39.0</td>\n",
              "      <td>1.0</td>\n",
              "      <td>250.0</td>\n",
              "      <td>39.0</td>\n",
              "    </tr>\n",
              "    <tr>\n",
              "      <th>747</th>\n",
              "      <td>72.0</td>\n",
              "      <td>1.0</td>\n",
              "      <td>250.0</td>\n",
              "      <td>72.0</td>\n",
              "    </tr>\n",
              "  </tbody>\n",
              "</table>\n",
              "<p>748 rows × 4 columns</p>\n",
              "</div>\n",
              "      <button class=\"colab-df-convert\" onclick=\"convertToInteractive('df-3fcd8d98-9e0a-4f2e-a521-daf3800e4af4')\"\n",
              "              title=\"Convert this dataframe to an interactive table.\"\n",
              "              style=\"display:none;\">\n",
              "        \n",
              "  <svg xmlns=\"http://www.w3.org/2000/svg\" height=\"24px\"viewBox=\"0 0 24 24\"\n",
              "       width=\"24px\">\n",
              "    <path d=\"M0 0h24v24H0V0z\" fill=\"none\"/>\n",
              "    <path d=\"M18.56 5.44l.94 2.06.94-2.06 2.06-.94-2.06-.94-.94-2.06-.94 2.06-2.06.94zm-11 1L8.5 8.5l.94-2.06 2.06-.94-2.06-.94L8.5 2.5l-.94 2.06-2.06.94zm10 10l.94 2.06.94-2.06 2.06-.94-2.06-.94-.94-2.06-.94 2.06-2.06.94z\"/><path d=\"M17.41 7.96l-1.37-1.37c-.4-.4-.92-.59-1.43-.59-.52 0-1.04.2-1.43.59L10.3 9.45l-7.72 7.72c-.78.78-.78 2.05 0 2.83L4 21.41c.39.39.9.59 1.41.59.51 0 1.02-.2 1.41-.59l7.78-7.78 2.81-2.81c.8-.78.8-2.07 0-2.86zM5.41 20L4 18.59l7.72-7.72 1.47 1.35L5.41 20z\"/>\n",
              "  </svg>\n",
              "      </button>\n",
              "      \n",
              "  <style>\n",
              "    .colab-df-container {\n",
              "      display:flex;\n",
              "      flex-wrap:wrap;\n",
              "      gap: 12px;\n",
              "    }\n",
              "\n",
              "    .colab-df-convert {\n",
              "      background-color: #E8F0FE;\n",
              "      border: none;\n",
              "      border-radius: 50%;\n",
              "      cursor: pointer;\n",
              "      display: none;\n",
              "      fill: #1967D2;\n",
              "      height: 32px;\n",
              "      padding: 0 0 0 0;\n",
              "      width: 32px;\n",
              "    }\n",
              "\n",
              "    .colab-df-convert:hover {\n",
              "      background-color: #E2EBFA;\n",
              "      box-shadow: 0px 1px 2px rgba(60, 64, 67, 0.3), 0px 1px 3px 1px rgba(60, 64, 67, 0.15);\n",
              "      fill: #174EA6;\n",
              "    }\n",
              "\n",
              "    [theme=dark] .colab-df-convert {\n",
              "      background-color: #3B4455;\n",
              "      fill: #D2E3FC;\n",
              "    }\n",
              "\n",
              "    [theme=dark] .colab-df-convert:hover {\n",
              "      background-color: #434B5C;\n",
              "      box-shadow: 0px 1px 3px 1px rgba(0, 0, 0, 0.15);\n",
              "      filter: drop-shadow(0px 1px 2px rgba(0, 0, 0, 0.3));\n",
              "      fill: #FFFFFF;\n",
              "    }\n",
              "  </style>\n",
              "\n",
              "      <script>\n",
              "        const buttonEl =\n",
              "          document.querySelector('#df-3fcd8d98-9e0a-4f2e-a521-daf3800e4af4 button.colab-df-convert');\n",
              "        buttonEl.style.display =\n",
              "          google.colab.kernel.accessAllowed ? 'block' : 'none';\n",
              "\n",
              "        async function convertToInteractive(key) {\n",
              "          const element = document.querySelector('#df-3fcd8d98-9e0a-4f2e-a521-daf3800e4af4');\n",
              "          const dataTable =\n",
              "            await google.colab.kernel.invokeFunction('convertToInteractive',\n",
              "                                                     [key], {});\n",
              "          if (!dataTable) return;\n",
              "\n",
              "          const docLinkHtml = 'Like what you see? Visit the ' +\n",
              "            '<a target=\"_blank\" href=https://colab.research.google.com/notebooks/data_table.ipynb>data table notebook</a>'\n",
              "            + ' to learn more about interactive tables.';\n",
              "          element.innerHTML = '';\n",
              "          dataTable['output_type'] = 'display_data';\n",
              "          await google.colab.output.renderOutput(dataTable, element);\n",
              "          const docLink = document.createElement('div');\n",
              "          docLink.innerHTML = docLinkHtml;\n",
              "          element.appendChild(docLink);\n",
              "        }\n",
              "      </script>\n",
              "    </div>\n",
              "  </div>\n",
              "  "
            ]
          },
          "metadata": {},
          "execution_count": 43
        }
      ]
    },
    {
      "cell_type": "code",
      "source": [
        "imputer=SimpleImputer(missing_values=np.nan, strategy='median')\n",
        "imputed_pdata=imputer.fit_transform(X_num)"
      ],
      "metadata": {
        "id": "QoU57wWWwNCI"
      },
      "execution_count": null,
      "outputs": []
    },
    {
      "cell_type": "code",
      "source": [
        "imputed_pdata"
      ],
      "metadata": {
        "colab": {
          "base_uri": "https://localhost:8080/"
        },
        "id": "DDPnsZQFzi5H",
        "outputId": "e7e6d502-bf7c-451a-a949-55315da51a8d"
      },
      "execution_count": null,
      "outputs": [
        {
          "output_type": "execute_result",
          "data": {
            "text/plain": [
              "array([[2.00e+00, 5.00e+01, 1.25e+04, 9.80e+01],\n",
              "       [0.00e+00, 1.30e+01, 3.25e+03, 2.80e+01],\n",
              "       [8.00e+00, 4.00e+00, 4.00e+03, 3.50e+01],\n",
              "       ...,\n",
              "       [2.30e+01, 3.00e+00, 7.50e+02, 6.20e+01],\n",
              "       [3.90e+01, 1.00e+00, 2.50e+02, 3.90e+01],\n",
              "       [7.20e+01, 1.00e+00, 2.50e+02, 7.20e+01]])"
            ]
          },
          "metadata": {},
          "execution_count": 45
        }
      ]
    },
    {
      "cell_type": "code",
      "source": [
        "np.average(imputed_pdata[:,0])"
      ],
      "metadata": {
        "colab": {
          "base_uri": "https://localhost:8080/"
        },
        "id": "wOxHm5n2zn3T",
        "outputId": "5d9f2496-736a-4117-ea8d-1d70bbe91b04"
      },
      "execution_count": null,
      "outputs": [
        {
          "output_type": "execute_result",
          "data": {
            "text/plain": [
              "9.552139037433156"
            ]
          },
          "metadata": {},
          "execution_count": 47
        }
      ]
    },
    {
      "cell_type": "code",
      "source": [
        "knn_imputer=KNNImputer(missing_values=np.nan,n_neighbors=3)\n",
        "imputed_knn_pdata=imputer.fit_transform(X_num)"
      ],
      "metadata": {
        "id": "gw2v9nCEz2h5"
      },
      "execution_count": null,
      "outputs": []
    },
    {
      "cell_type": "code",
      "source": [
        "imputed_knn_pdata"
      ],
      "metadata": {
        "colab": {
          "base_uri": "https://localhost:8080/"
        },
        "id": "TZV6Z2Oh0nE4",
        "outputId": "d785d115-241c-452f-9031-3d7349cb9b70"
      },
      "execution_count": null,
      "outputs": [
        {
          "output_type": "execute_result",
          "data": {
            "text/plain": [
              "array([[2.00e+00, 5.00e+01, 1.25e+04, 9.80e+01],\n",
              "       [0.00e+00, 1.30e+01, 3.25e+03, 2.80e+01],\n",
              "       [8.00e+00, 4.00e+00, 4.00e+03, 3.50e+01],\n",
              "       ...,\n",
              "       [2.30e+01, 3.00e+00, 7.50e+02, 6.20e+01],\n",
              "       [3.90e+01, 1.00e+00, 2.50e+02, 3.90e+01],\n",
              "       [7.20e+01, 1.00e+00, 2.50e+02, 7.20e+01]])"
            ]
          },
          "metadata": {},
          "execution_count": 52
        }
      ]
    },
    {
      "cell_type": "code",
      "source": [
        "np.average(imputed_knn_pdata[:,0])"
      ],
      "metadata": {
        "colab": {
          "base_uri": "https://localhost:8080/"
        },
        "id": "OqubM60-0aFP",
        "outputId": "2b7e0280-d4ab-4999-84ad-08139aea85f6"
      },
      "execution_count": null,
      "outputs": [
        {
          "output_type": "execute_result",
          "data": {
            "text/plain": [
              "9.552139037433156"
            ]
          },
          "metadata": {},
          "execution_count": 50
        }
      ]
    },
    {
      "cell_type": "code",
      "source": [
        "mean_imputer=SimpleImputer(missing_values=np.nan,strategy='mean')\n",
        "imp_pdata=mean_imputer.fit_transform(X_num)"
      ],
      "metadata": {
        "id": "ATYSBbsL26oP"
      },
      "execution_count": null,
      "outputs": []
    },
    {
      "cell_type": "code",
      "source": [
        "np.average(imp_pdata[:,1])"
      ],
      "metadata": {
        "colab": {
          "base_uri": "https://localhost:8080/"
        },
        "id": "iK0g1cpd2_He",
        "outputId": "2d2d5947-0d68-427c-a321-5945067c2932"
      },
      "execution_count": null,
      "outputs": [
        {
          "output_type": "execute_result",
          "data": {
            "text/plain": [
              "5.464333781965007"
            ]
          },
          "metadata": {},
          "execution_count": 58
        }
      ]
    },
    {
      "cell_type": "markdown",
      "source": [
        "## GA"
      ],
      "metadata": {
        "id": "yGY_CizmG9Ft"
      }
    },
    {
      "cell_type": "code",
      "source": [
        "X=pdata.iloc[:,:-1]\n",
        "y=pdata.iloc[:,-1]"
      ],
      "metadata": {
        "id": "kckTdH8YyhLO"
      },
      "execution_count": null,
      "outputs": []
    },
    {
      "cell_type": "code",
      "source": [
        "print(X,y)"
      ],
      "metadata": {
        "colab": {
          "base_uri": "https://localhost:8080/"
        },
        "id": "mFMCMxnZ1jvG",
        "outputId": "b3e59486-6b0d-4891-84d0-43a87f8058f9"
      },
      "execution_count": null,
      "outputs": [
        {
          "output_type": "stream",
          "name": "stdout",
          "text": [
            "       V1    V2       V3    V4        V5\n",
            "0     2.0  50.0  12500.0  98.0  NEGATIVE\n",
            "1     0.0  13.0   3250.0  28.0  NEGATIVE\n",
            "2       ?     ?   4000.0  35.0  NEGATIVE\n",
            "3       ?  20.0   5000.0  45.0  NEGATIVE\n",
            "4     1.0  24.0   6000.0  77.0  NEGATIVE\n",
            "..    ...   ...      ...   ...       ...\n",
            "743  23.0   2.0    500.0  38.0  NEGATIVE\n",
            "744  21.0   2.0    500.0  52.0  NEGATIVE\n",
            "745  23.0   3.0    750.0  62.0  NEGATIVE\n",
            "746  39.0   1.0    250.0  39.0  NEGATIVE\n",
            "747  72.0   1.0    250.0  72.0  NEGATIVE\n",
            "\n",
            "[748 rows x 5 columns] 0      YES\n",
            "1      YES\n",
            "2      YES\n",
            "3      YES\n",
            "4       NO\n",
            "      ... \n",
            "743     NO\n",
            "744     NO\n",
            "745     NO\n",
            "746     NO\n",
            "747     NO\n",
            "Name: Target, Length: 748, dtype: object\n"
          ]
        }
      ]
    },
    {
      "cell_type": "code",
      "source": [
        "X=X.replace({'?':np.nan})"
      ],
      "metadata": {
        "id": "9E_TKhAizkRn"
      },
      "execution_count": null,
      "outputs": []
    },
    {
      "cell_type": "code",
      "source": [
        "imputer=SimpleImputer(strategy=\"mean\")\n",
        "sscaler=StandardScaler()\n",
        "first_4_features=Pipeline([(\"selector\",ColumnTransformer([(\"select_4\",\"passthrough\",[0,1,2,3])])),(\"imputer\",imputer),(\"sscaler\",sscaler)])"
      ],
      "metadata": {
        "id": "EwSzuUXD2l4h"
      },
      "execution_count": null,
      "outputs": []
    },
    {
      "cell_type": "code",
      "source": [
        "last_feature=ColumnTransformer([(\"ordinal\",OrdinalEncoder(),[4])])"
      ],
      "metadata": {
        "id": "Kdq1y2WB7SQr"
      },
      "execution_count": null,
      "outputs": []
    },
    {
      "cell_type": "code",
      "source": [
        "features=FeatureUnion([(\"first_four\",first_4_features),(\"last\",last_feature)])"
      ],
      "metadata": {
        "id": "JP9xoWba9DP8"
      },
      "execution_count": null,
      "outputs": []
    },
    {
      "cell_type": "code",
      "source": [
        "selector=variance_threshold=VarianceThreshold(threshold=0.1)"
      ],
      "metadata": {
        "id": "lqY9121A-TCk"
      },
      "execution_count": null,
      "outputs": []
    },
    {
      "cell_type": "code",
      "source": [
        "pipe=Pipeline([(\"features\",features),(\"selector\",selector)])"
      ],
      "metadata": {
        "id": "voLzAaAy-vj5"
      },
      "execution_count": null,
      "outputs": []
    },
    {
      "cell_type": "code",
      "source": [
        "X_transformed=pipe.fit_transform(X)\n",
        "X_transformed"
      ],
      "metadata": {
        "colab": {
          "base_uri": "https://localhost:8080/"
        },
        "id": "cTUJz9Ky_XxA",
        "outputId": "bec079d5-c1f9-4aba-aca6-6a5eee2ccf30"
      },
      "execution_count": null,
      "outputs": [
        {
          "output_type": "execute_result",
          "data": {
            "text/plain": [
              "array([[-9.38169390e-01,  7.70986653e+00,  7.62334626e+00,\n",
              "         2.61563344e+00],\n",
              "       [-1.18627754e+00,  1.30454949e+00,  1.28273826e+00,\n",
              "        -2.57880900e-01],\n",
              "       [ 0.00000000e+00, -1.53758496e-16,  1.79684161e+00,\n",
              "         2.94705348e-02],\n",
              "       ...,\n",
              "       [ 1.66696622e+00, -4.26617275e-01, -4.30939574e-01,\n",
              "         1.13782607e+00],\n",
              "       [ 3.65183145e+00, -7.72850628e-01, -7.73675141e-01,\n",
              "         1.93671355e-01],\n",
              "       [ 7.74561598e+00, -7.72850628e-01, -7.73675141e-01,\n",
              "         1.54832812e+00]])"
            ]
          },
          "metadata": {},
          "execution_count": 71
        }
      ]
    },
    {
      "cell_type": "code",
      "source": [
        "X_transformed.shape"
      ],
      "metadata": {
        "colab": {
          "base_uri": "https://localhost:8080/"
        },
        "id": "sQftQTnGD4dn",
        "outputId": "4a98e269-b9d0-427d-c1a8-6fa245d046cf"
      },
      "execution_count": null,
      "outputs": [
        {
          "output_type": "execute_result",
          "data": {
            "text/plain": [
              "(748, 4)"
            ]
          },
          "metadata": {},
          "execution_count": 72
        }
      ]
    },
    {
      "cell_type": "code",
      "source": [
        "X.shape"
      ],
      "metadata": {
        "colab": {
          "base_uri": "https://localhost:8080/"
        },
        "id": "o8kL6ZzAG2bo",
        "outputId": "0d42e857-049f-4242-adf4-7b215a5ac009"
      },
      "execution_count": null,
      "outputs": [
        {
          "output_type": "execute_result",
          "data": {
            "text/plain": [
              "(748, 5)"
            ]
          },
          "metadata": {},
          "execution_count": 73
        }
      ]
    },
    {
      "cell_type": "code",
      "source": [
        "selector2=RFE(estimator=LogisticRegression(), n_features_to_select=2)"
      ],
      "metadata": {
        "id": "PihyZ0IDHtjV"
      },
      "execution_count": null,
      "outputs": []
    },
    {
      "cell_type": "code",
      "source": [
        "selector2.fit(X_transformed,y)\n",
        "selector2.support_"
      ],
      "metadata": {
        "colab": {
          "base_uri": "https://localhost:8080/"
        },
        "id": "SiB04SUGI_kR",
        "outputId": "b08e932e-d888-4a40-d59d-3525f19e55d5"
      },
      "execution_count": null,
      "outputs": [
        {
          "output_type": "execute_result",
          "data": {
            "text/plain": [
              "array([ True, False,  True, False])"
            ]
          },
          "metadata": {},
          "execution_count": 82
        }
      ]
    },
    {
      "cell_type": "code",
      "source": [
        "selector3=SequentialFeatureSelector(estimator=LogisticRegression(), n_features_to_select=2, direction=\"forward\")"
      ],
      "metadata": {
        "id": "mMt-L7ZRLbMf"
      },
      "execution_count": null,
      "outputs": []
    },
    {
      "cell_type": "code",
      "source": [
        "selector3.fit(X_transformed,y)\n",
        "selector3.support_"
      ],
      "metadata": {
        "colab": {
          "base_uri": "https://localhost:8080/"
        },
        "id": "tmrTwTa_LxtI",
        "outputId": "19a7111a-1e24-491b-8d2e-5578d5ff371a"
      },
      "execution_count": null,
      "outputs": [
        {
          "output_type": "execute_result",
          "data": {
            "text/plain": [
              "array([False,  True, False,  True])"
            ]
          },
          "metadata": {},
          "execution_count": 85
        }
      ]
    },
    {
      "cell_type": "code",
      "source": [
        "selector4=SequentialFeatureSelector(estimator=LogisticRegression(),n_features_to_select=2,direction=\"backward\")"
      ],
      "metadata": {
        "id": "mHbsqyyRL-fe"
      },
      "execution_count": null,
      "outputs": []
    },
    {
      "cell_type": "code",
      "source": [
        "selector4.fit(X_transformed,y)\n",
        "selector4.support_"
      ],
      "metadata": {
        "colab": {
          "base_uri": "https://localhost:8080/"
        },
        "id": "Dp6bDmmtMQZW",
        "outputId": "b0f5740e-8288-4e87-9434-d479c1682034"
      },
      "execution_count": null,
      "outputs": [
        {
          "output_type": "execute_result",
          "data": {
            "text/plain": [
              "array([False, False,  True,  True])"
            ]
          },
          "metadata": {},
          "execution_count": 87
        }
      ]
    }
  ]
}